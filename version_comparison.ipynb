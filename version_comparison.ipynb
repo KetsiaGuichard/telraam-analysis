{
 "cells": [
  {
   "cell_type": "code",
   "execution_count": null,
   "metadata": {},
   "outputs": [],
   "source": [
    "%pip install -r requirements.txt"
   ]
  },
  {
   "cell_type": "code",
   "execution_count": null,
   "metadata": {},
   "outputs": [],
   "source": [
    "import pandas as pd\n",
    "import seaborn as sns\n",
    "from datetime import datetime, timedelta\n",
    "from data_gathering import get_traffic, get_active_cameras_by_segment, get_all_cameras"
   ]
  },
  {
   "attachments": {},
   "cell_type": "markdown",
   "metadata": {},
   "source": [
    "## Parameters\n",
    "\n",
    "Get all the segments for which the two versions operate simultaneously"
   ]
  },
  {
   "cell_type": "code",
   "execution_count": null,
   "metadata": {},
   "outputs": [],
   "source": [
    "cameras = get_all_cameras()\n",
    "cameras_per_segments = cameras.groupby('segment_id')['hardware_version'].nunique()\n",
    "cameras_per_segments.sort_values(ascending=False)[0:10]"
   ]
  },
  {
   "cell_type": "code",
   "execution_count": null,
   "metadata": {},
   "outputs": [],
   "source": [
    "burel = 9000002156\n",
    "yesterday = (datetime.now() - timedelta(2))\n",
    "\n",
    "cameras = get_active_cameras_by_segment(burel)\n",
    "start_period = \"2023-09-08 00:00:00Z\"\n",
    "end_period = yesterday.strftime('%Y-%m-%d %H:%M:%SZ')"
   ]
  },
  {
   "attachments": {},
   "cell_type": "markdown",
   "metadata": {},
   "source": [
    "## Get Telraam data "
   ]
  },
  {
   "cell_type": "code",
   "execution_count": null,
   "metadata": {},
   "outputs": [],
   "source": [
    "burel = pd.DataFrame()\n",
    "for version in cameras:\n",
    "    burel_tmp = get_traffic(cameras[version], start_period, end_period, level='instances')\n",
    "    burel_tmp['version'] = version\n",
    "    burel = pd.concat([burel, burel_tmp], ignore_index=True)\n",
    "\n",
    "#burel.to_csv(f\"data/burel_{yesterday.strftime('%Y%m%d')}.csv\", index=False)"
   ]
  },
  {
   "cell_type": "code",
   "execution_count": null,
   "metadata": {},
   "outputs": [],
   "source": [
    "burel.groupby('version')['version'].count()"
   ]
  },
  {
   "cell_type": "code",
   "execution_count": null,
   "metadata": {},
   "outputs": [],
   "source": [
    "burel.columns"
   ]
  },
  {
   "cell_type": "code",
   "execution_count": null,
   "metadata": {},
   "outputs": [],
   "source": [
    "burel.tail()"
   ]
  },
  {
   "attachments": {},
   "cell_type": "markdown",
   "metadata": {},
   "source": [
    "## Analysis\n",
    "\n",
    "Ideas :\n",
    "- daily aggregation and comparison \n",
    "    - global (or just cars + heavy)\n",
    "    - by transportation mode\n",
    "    - by directions\n",
    "- by moment of time :\n",
    "    - day of week\n",
    "    - hour\n",
    "- uptime differences ?\n",
    "- v85 differences ?\n",
    "- directions"
   ]
  },
  {
   "cell_type": "code",
   "execution_count": null,
   "metadata": {},
   "outputs": [],
   "source": [
    "#burel = pd.read_csv('data/burel_20231018.csv')\n",
    "\n",
    "burel['date'] = pd.to_datetime(burel['date'])\n",
    "burel['day'] = burel['date'].dt.date\n",
    "burel['hour'] = burel['date'].dt.hour\n",
    "\n",
    "dow_order = ['Monday','Tuesday','Wednesday','Thursday','Friday','Saturday','Sunday']\n",
    "burel['day_of_week'] = burel['date'].dt.strftime('%A')\n",
    "burel['day_of_week'] = pd.Categorical(burel['day_of_week'], categories=dow_order)\n",
    "\n",
    "\n",
    "burel = burel.query('uptime > 0.5')"
   ]
  },
  {
   "cell_type": "markdown",
   "metadata": {},
   "source": [
    "### Uptime"
   ]
  },
  {
   "cell_type": "code",
   "execution_count": null,
   "metadata": {},
   "outputs": [],
   "source": [
    "id_var = ['day','version']\n",
    "median_uptime = burel.groupby(id_var)['uptime'].median().reset_index()\n",
    "sns.lineplot(median_uptime, x=\"day\", y=\"uptime\", hue=\"version\", errorbar=None)"
   ]
  },
  {
   "cell_type": "code",
   "execution_count": null,
   "metadata": {},
   "outputs": [],
   "source": [
    "sns.boxplot(burel.query(\"version == 'v2'\")['uptime']) "
   ]
  },
  {
   "attachments": {},
   "cell_type": "markdown",
   "metadata": {},
   "source": [
    "### Daily - by Transportation mode"
   ]
  },
  {
   "cell_type": "code",
   "execution_count": null,
   "metadata": {},
   "outputs": [],
   "source": [
    "id_var = ['day','version']\n",
    "evolution = burel.groupby(id_var)[transportation_modes].sum().reset_index()\n",
    "evolution = pd.melt(evolution, id_vars=id_var, var_name=\"mode\")"
   ]
  },
  {
   "cell_type": "code",
   "execution_count": null,
   "metadata": {},
   "outputs": [],
   "source": [
    "g = sns.FacetGrid(evolution, col=\"mode\", sharey=False, col_wrap=2)\n",
    "g.map_dataframe(sns.lineplot, x='day', y='value', hue='version', errorbar=None)\n",
    "g.add_legend()"
   ]
  },
  {
   "attachments": {},
   "cell_type": "markdown",
   "metadata": {},
   "source": [
    "### Daily - by transportation mode and direction"
   ]
  },
  {
   "cell_type": "code",
   "execution_count": null,
   "metadata": {},
   "outputs": [],
   "source": [
    "evolution_direction = burel.groupby(id_var)[direction_modes].sum().reset_index()\n",
    "evolution_direction['vehicules_lft'] = evolution_direction['car_lft'] + evolution_direction['heavy_lft']\n",
    "evolution_direction['vehicules_rgt'] = evolution_direction['car_rgt'] + evolution_direction['heavy_rgt']\n",
    "evolution_direction = pd.melt(evolution_direction, id_vars=id_var, var_name=\"mode_direction\")\n",
    "evolution_direction[['mode', 'direction']] = evolution_direction['mode_direction'].str.split(\"_\", expand = True)\n"
   ]
  },
  {
   "cell_type": "code",
   "execution_count": null,
   "metadata": {},
   "outputs": [],
   "source": [
    "g = sns.FacetGrid(evolution_direction, col=\"mode\", row=\"direction\", sharey=False)\n",
    "g.map_dataframe(sns.lineplot, x='day', y='value', hue='version', errorbar=None)\n",
    "g.add_legend()"
   ]
  },
  {
   "cell_type": "code",
   "execution_count": null,
   "metadata": {},
   "outputs": [],
   "source": [
    "evolution_direction"
   ]
  },
  {
   "attachments": {},
   "cell_type": "markdown",
   "metadata": {},
   "source": [
    "### Day of week"
   ]
  },
  {
   "cell_type": "code",
   "execution_count": null,
   "metadata": {},
   "outputs": [],
   "source": [
    "id_var = ['day_of_week','version']\n",
    "dow_direction = burel.groupby(id_var, observed=False)[direction_modes].median().reset_index()\n",
    "dow_direction = pd.melt(dow_direction, id_vars=id_var, var_name=\"mode_direction\")\n",
    "dow_direction[['mode', 'direction']] = dow_direction['mode_direction'].str.split(\"_\", expand = True)\n"
   ]
  },
  {
   "cell_type": "code",
   "execution_count": null,
   "metadata": {},
   "outputs": [],
   "source": [
    "g = sns.FacetGrid(dow_direction, col=\"mode\", row=\"direction\", sharey=False)\n",
    "g.map_dataframe(sns.lineplot, x='day_of_week', y='value', hue='version', errorbar=None, sort=False)\n",
    "g.add_legend()"
   ]
  },
  {
   "attachments": {},
   "cell_type": "markdown",
   "metadata": {},
   "source": [
    " ### Hourly"
   ]
  },
  {
   "cell_type": "code",
   "execution_count": null,
   "metadata": {},
   "outputs": [],
   "source": [
    "id_var = ['hour','version']\n",
    "hour_direction = burel.groupby(id_var, observed=False)[direction_modes].median().reset_index()\n",
    "hour_direction = pd.melt(hour_direction, id_vars=id_var, var_name=\"mode_direction\")\n",
    "hour_direction[['mode', 'direction']] = hour_direction['mode_direction'].str.split(\"_\", expand = True)"
   ]
  },
  {
   "cell_type": "code",
   "execution_count": null,
   "metadata": {},
   "outputs": [],
   "source": [
    "g = sns.FacetGrid(hour_direction, col=\"mode\", row=\"direction\", sharey=False)\n",
    "g.map_dataframe(sns.lineplot, x='hour', y='value', hue='version', errorbar=None, sort=False)\n",
    "g.add_legend()"
   ]
  }
 ],
 "metadata": {
  "kernelspec": {
   "display_name": ".venv",
   "language": "python",
   "name": "python3"
  },
  "language_info": {
   "codemirror_mode": {
    "name": "ipython",
    "version": 3
   },
   "file_extension": ".py",
   "mimetype": "text/x-python",
   "name": "python",
   "nbconvert_exporter": "python",
   "pygments_lexer": "ipython3",
   "version": "3.10.0"
  },
  "orig_nbformat": 4,
  "vscode": {
   "interpreter": {
    "hash": "e30076b975e34b15d1887f439e3a2ef14055f6a47cb869ba7a6e9da7c23489fc"
   }
  }
 },
 "nbformat": 4,
 "nbformat_minor": 2
}
